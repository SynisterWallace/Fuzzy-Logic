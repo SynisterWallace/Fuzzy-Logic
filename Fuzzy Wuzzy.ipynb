{
 "cells": [
  {
   "cell_type": "code",
   "execution_count": 23,
   "metadata": {},
   "outputs": [],
   "source": [
    "import numpy as np\n",
    "import pandas as pd\n",
    "import csv"
   ]
  },
  {
   "cell_type": "code",
   "execution_count": 3,
   "metadata": {},
   "outputs": [],
   "source": [
    "data = pd.read_csv(\"influencers.csv\") "
   ]
  },
  {
   "cell_type": "code",
   "execution_count": 4,
   "metadata": {},
   "outputs": [
    {
     "name": "stdout",
     "output_type": "stream",
     "text": [
      "     id  followerCount  engagementRate\n",
      "0     1           6207             1.0\n",
      "1     2          38237             5.8\n",
      "2     3          14840             0.6\n",
      "3     4          43851             1.4\n",
      "4     5          15530             3.5\n",
      "5     6          24050             3.3\n",
      "6     7          44837             1.3\n",
      "7     8          10029             3.4\n",
      "8     9          14531             0.2\n",
      "9    10           7862             2.8\n",
      "10   11          95117             6.6\n",
      "11   12          28548             2.5\n",
      "12   13          90773             6.7\n",
      "13   14          34711             1.8\n",
      "14   15          11546             2.4\n",
      "15   16          38046             0.9\n",
      "16   17          17006             0.9\n",
      "17   18          22159             1.0\n",
      "18   19          55217             4.9\n",
      "19   20           1908             2.3\n",
      "20   21          23555             0.8\n",
      "21   22           6463             1.2\n",
      "22   23          27915             2.1\n",
      "23   24           3628             0.5\n",
      "24   25          77585             2.7\n",
      "25   26          30010             1.2\n",
      "26   27          18404             3.1\n",
      "27   28           9828             3.7\n",
      "28   29          12108             0.5\n",
      "29   30           7643             2.0\n",
      "..  ...            ...             ...\n",
      "70   71          25160             2.8\n",
      "71   72          61456             4.6\n",
      "72   73          21216             2.5\n",
      "73   74          22394             6.3\n",
      "74   75          94551             3.0\n",
      "75   76          39175             3.3\n",
      "76   77          17408             1.9\n",
      "77   78          20226             3.0\n",
      "78   79          47405             0.4\n",
      "79   80          20406             3.2\n",
      "80   81          44116             1.2\n",
      "81   82          12098             0.2\n",
      "82   83          10614             0.1\n",
      "83   84          25712             2.0\n",
      "84   85          25346             2.3\n",
      "85   86          26515             2.0\n",
      "86   87           9043             2.9\n",
      "87   88          19602             2.7\n",
      "88   89          22801             2.3\n",
      "89   90           1526             2.5\n",
      "90   91          22100             3.2\n",
      "91   92           3837             2.4\n",
      "92   93          27657             5.5\n",
      "93   94          49646             0.5\n",
      "94   95          15523             3.1\n",
      "95   96          13436             0.7\n",
      "96   97           5741             0.9\n",
      "97   98          27417             0.4\n",
      "98   99          40869             0.1\n",
      "99  100          15788             6.8\n",
      "\n",
      "[100 rows x 3 columns]\n"
     ]
    }
   ],
   "source": [
    "print(data)"
   ]
  },
  {
   "cell_type": "code",
   "execution_count": 5,
   "metadata": {},
   "outputs": [],
   "source": [
    "followers = data ['followerCount']\n",
    "engrate = data['engagementRate']"
   ]
  },
  {
   "cell_type": "code",
   "execution_count": 6,
   "metadata": {},
   "outputs": [],
   "source": [
    "followerCount = [\"high\", \"average\",\"low\"]\n",
    "engagementRate = [\"upper\",\"middle\",\"bottom\"]\n",
    "score = [\"accepted\",\"considered\",\"rejected\"]"
   ]
  },
  {
   "cell_type": "code",
   "execution_count": 7,
   "metadata": {},
   "outputs": [],
   "source": [
    "def lowFoll(foll):\n",
    "    if((foll > 15000) and (foll <= 20000)):\n",
    "        return (20000 - foll )/(20000 - 15000)\n",
    "    elif (foll <= 15000):\n",
    "        return 1\n",
    "    elif (foll > 20000):\n",
    "        return 0"
   ]
  },
  {
   "cell_type": "code",
   "execution_count": 8,
   "metadata": {},
   "outputs": [],
   "source": [
    "def avgFoll(foll):\n",
    "    if((foll > 17500) and (foll < 25000)):\n",
    "        return (foll - 17500)/(25000 - 17500)\n",
    "    elif((foll > 50000) and (foll <= 59000)):\n",
    "        return (59000 - foll)/(59000 - 50000)\n",
    "    elif ((foll <= 17500) or (foll > 59000)):\n",
    "        return 0\n",
    "    elif ((foll >= 25000) and (foll <= 50000)):\n",
    "        return 1"
   ]
  },
  {
   "cell_type": "code",
   "execution_count": 9,
   "metadata": {},
   "outputs": [],
   "source": [
    "def hiFoll(foll):\n",
    "    if((foll <= 60000) and (foll > 55000)):\n",
    "        return (foll - 55000)/(60000 - 55000)\n",
    "    elif (foll <= 55000):\n",
    "        return 0\n",
    "    elif (foll > 60000):\n",
    "        return 1"
   ]
  },
  {
   "cell_type": "code",
   "execution_count": 10,
   "metadata": {},
   "outputs": [],
   "source": [
    "def lowRate(r):\n",
    "    if((r > 0.5) and (r <= 1)):\n",
    "        return (1 - r )/(1 - 0.5)\n",
    "    elif (r <= 0.5):\n",
    "        return 1\n",
    "    elif (r > 1):\n",
    "        return 0"
   ]
  },
  {
   "cell_type": "code",
   "execution_count": 11,
   "metadata": {},
   "outputs": [],
   "source": [
    "def midRate(r):\n",
    "    if((r > 0.6) and (r < 1.5)):\n",
    "        return (r - 0.6)/(1.5 - 0.5)\n",
    "    elif((r > 4.5) and (r < 5.2)):\n",
    "        return (5.2 - r)/(5.2 - 4.5)\n",
    "    elif ((r <= 0.6) or (r >= 5.2)):\n",
    "        return 0\n",
    "    elif ((r >= 1.5) and (r <= 4.5)):\n",
    "        return 1"
   ]
  },
  {
   "cell_type": "code",
   "execution_count": 12,
   "metadata": {},
   "outputs": [],
   "source": [
    "def hiRate(r):\n",
    "    if((r <= 5.5) and (r > 5)):\n",
    "        return (r - 5)/(5.5 - 5)\n",
    "    elif (r <= 5):\n",
    "        return 0\n",
    "    elif (r > 5.5):\n",
    "        return 1"
   ]
  },
  {
   "cell_type": "code",
   "execution_count": 13,
   "metadata": {},
   "outputs": [],
   "source": [
    "def accRules(hi, avg, mid, bot ):\n",
    "    acc1 = (min(hi, mid))\n",
    "    acc2 = (min(hi, bot))\n",
    "    acc3 = (min(avg, bot))\n",
    "    values = max(acc1, acc2, acc3)\n",
    "    return values"
   ]
  },
  {
   "cell_type": "code",
   "execution_count": 14,
   "metadata": {},
   "outputs": [],
   "source": [
    "def consRules(hi, av, lo, up, mid, bot):\n",
    "    cons1 = (min(hi, up))\n",
    "    cons2 = (min(av, up))\n",
    "    cons3 = (min(av, mid))\n",
    "    cons4 = (min(lo, bot))\n",
    "    values = max(cons1, cons2, cons3, cons4)\n",
    "    return values"
   ]
  },
  {
   "cell_type": "code",
   "execution_count": 15,
   "metadata": {},
   "outputs": [],
   "source": [
    "def rejRules(lo, up, mid):\n",
    "    rej1 = (min(lo, up))\n",
    "    rej2 = (min(lo, mid))\n",
    "    values = max(rej1, rej2)\n",
    "    return values"
   ]
  },
  {
   "cell_type": "code",
   "execution_count": 16,
   "metadata": {},
   "outputs": [],
   "source": [
    "def defuzzification (a, c, r, i):\n",
    "    acc = 100\n",
    "    cons = 75\n",
    "    rej = 50\n",
    "    return ((acc*a)+(cons*c)+(rej*r))/(a + c + r), i"
   ]
  },
  {
   "cell_type": "code",
   "execution_count": 17,
   "metadata": {},
   "outputs": [],
   "source": [
    "def fuzzificationfollower (x):\n",
    "    values = []\n",
    "    values.append(hiFoll(x))\n",
    "    values.append(avgFoll(x)) \n",
    "    values.append(lowFoll(x))\n",
    "    return values"
   ]
  },
  {
   "cell_type": "code",
   "execution_count": 18,
   "metadata": {},
   "outputs": [],
   "source": [
    "def fuzzificationengagement (x):\n",
    "    values = []\n",
    "    values.append(hiRate(x))\n",
    "    values.append(midRate(x))\n",
    "    values.append(lowRate(x))\n",
    "    return values"
   ]
  },
  {
   "cell_type": "code",
   "execution_count": 19,
   "metadata": {},
   "outputs": [
    {
     "name": "stdout",
     "output_type": "stream",
     "text": [
      "5.5\n",
      "1.0\n",
      "55217\n"
     ]
    }
   ],
   "source": [
    "print(engrate[92])\n",
    "print(hiRate(engrate[92]))\n",
    "fuzzificationfollower(followers[0])\n",
    "print(followers[18])"
   ]
  },
  {
   "cell_type": "code",
   "execution_count": null,
   "metadata": {},
   "outputs": [],
   "source": []
  },
  {
   "cell_type": "code",
   "execution_count": 20,
   "metadata": {},
   "outputs": [
    {
     "name": "stdout",
     "output_type": "stream",
     "text": [
      "[(100.0, 98), (100.0, 97), (100.0, 93), (100.0, 78), (100.0, 74), (100.0, 71), (100.0, 68), (100.0, 64), (100.0, 61), (100.0, 48), (100.0, 45), (100.0, 41), (100.0, 40), (100.0, 37), (100.0, 32), (100.0, 24), (96.42857142857142, 42), (91.66666666666667, 20), (86.30034361515104, 52), (85.0, 65), (85.0, 46), (85.0, 15), (77.33970672800459, 18), (75.0, 92), (75.0, 90), (75.0, 88), (75.0, 85), (75.0, 84), (75.0, 83), (75.0, 82), (75.0, 81), (75.0, 80), (75.0, 79), (75.0, 77), (75.0, 75), (75.0, 73), (75.0, 72), (75.0, 70), (75.0, 67), (75.0, 66), (75.0, 62), (75.0, 60), (75.0, 59), (75.0, 58), (75.0, 57), (75.0, 55), (75.0, 51), (75.0, 50), (75.0, 49), (75.0, 36), (75.0, 35), (75.0, 28), (75.0, 25), (75.0, 23), (75.0, 22), (75.0, 17), (75.0, 13), (75.0, 12), (75.0, 11), (75.0, 10), (75.0, 8), (75.0, 6), (75.0, 5), (75.0, 3), (75.0, 2), (75.0, 1), (73.89162561576354, 47), (71.42857142857143, 95), (71.42857142857143, 63), (71.42857142857143, 56), (69.47017413856985, 87), (67.76273372018052, 39), (61.687777594999176, 53), (60.0, 96), (60.0, 16), (58.320373250388805, 54), (56.85263796240146, 26), (50.0, 99), (50.0, 94), (50.0, 91), (50.0, 89), (50.0, 86), (50.0, 76), (50.0, 69), (50.0, 44), (50.0, 43), (50.0, 38), (50.0, 34), (50.0, 33), (50.0, 31), (50.0, 30), (50.0, 29), (50.0, 27), (50.0, 21), (50.0, 19), (50.0, 14), (50.0, 9), (50.0, 7), (50.0, 4), (50.0, 0)]\n"
     ]
    }
   ],
   "source": [
    "folls = [] \n",
    "rates = []\n",
    "core = []\n",
    "idx = []\n",
    "for i in range (100):\n",
    "    folls.append(fuzzificationfollower(followers[i]))\n",
    "    rates.append(fuzzificationengagement(engrate[i]))\n",
    "for i in range (100):\n",
    "    hi = folls[i][0]\n",
    "    av = folls[i][1]\n",
    "    lo = folls[i][2]\n",
    "    up = rates[i][0]\n",
    "    mid = rates[i][1]\n",
    "    bot = rates[i][2]\n",
    "    acc = accRules(hi, av, mid, bot)\n",
    "    cons = consRules(hi, av, lo, up, mid, bot)\n",
    "    rej = rejRules(lo, up ,mid)\n",
    "    core.append(defuzzification(acc, cons, rej, i))\n",
    "core.sort(reverse = True)\n",
    "print(core)"
   ]
  },
  {
   "cell_type": "code",
   "execution_count": 21,
   "metadata": {},
   "outputs": [
    {
     "name": "stdout",
     "output_type": "stream",
     "text": [
      "1 40869 0.1 100.0\n",
      "2 27417 0.4 100.0\n",
      "3 49646 0.5 100.0\n",
      "4 47405 0.4 100.0\n",
      "5 94551 3.0 100.0\n",
      "6 61456 4.6 100.0\n",
      "7 45718 0.3 100.0\n",
      "8 34471 0.4 100.0\n",
      "9 33443 0.4 100.0\n",
      "10 42391 0.3 100.0\n",
      "11 42111 0.2 100.0\n",
      "12 29689 0.3 100.0\n",
      "13 81909 3.6 100.0\n",
      "14 30308 0.4 100.0\n",
      "15 44833 0.6 100.0\n",
      "16 77585 2.7 100.0\n",
      "17 29843 0.7 96.42857142857142\n",
      "18 23555 0.8 91.66666666666667\n",
      "19 56257 3.2 86.30034361515104\n",
      "20 46833 0.9 85.0\n"
     ]
    }
   ],
   "source": [
    "Fixed = []\n",
    "for i in range (20):\n",
    "    Fixed.append(core[i])\n",
    "    print(i+1, followers[Fixed[i][1]], engrate[Fixed[i][1]] ,Fixed[i][0])\n",
    "    \n",
    "    "
   ]
  },
  {
   "cell_type": "code",
   "execution_count": 33,
   "metadata": {},
   "outputs": [],
   "source": [
    "with open('chosen.csv', 'w', newline='') as file:\n",
    "    writer = csv.writer(file)\n",
    "    writer.writerows(Fixed)"
   ]
  },
  {
   "cell_type": "code",
   "execution_count": null,
   "metadata": {},
   "outputs": [],
   "source": []
  }
 ],
 "metadata": {
  "kernelspec": {
   "display_name": "Python 3",
   "language": "python",
   "name": "python3"
  },
  "language_info": {
   "codemirror_mode": {
    "name": "ipython",
    "version": 3
   },
   "file_extension": ".py",
   "mimetype": "text/x-python",
   "name": "python",
   "nbconvert_exporter": "python",
   "pygments_lexer": "ipython3",
   "version": "3.7.3"
  }
 },
 "nbformat": 4,
 "nbformat_minor": 2
}
